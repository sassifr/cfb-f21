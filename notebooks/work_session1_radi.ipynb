{
 "cells": [
  {
   "cell_type": "code",
   "execution_count": 1,
   "id": "3ad96db5",
   "metadata": {},
   "outputs": [],
   "source": [
    "import pandas as pd\n",
    "import numpy as np\n",
    "import seaborn as sns"
   ]
  },
  {
   "cell_type": "code",
   "execution_count": 2,
   "id": "180c800a",
   "metadata": {},
   "outputs": [],
   "source": [
    "url1 = 'https://raw.githubusercontent.com/skunichetty/cfb-f21/main/data/game_stats.csv'\n",
    "url2 = 'https://raw.githubusercontent.com/skunichetty/cfb-f21/main/data/games.csv'\n",
    "game_stats = pd.read_csv(url1)\n",
    "games = pd.read_csv(url2)"
   ]
  },
  {
   "cell_type": "code",
   "execution_count": 4,
   "id": "3c7ac9d9",
   "metadata": {},
   "outputs": [],
   "source": [
    "df = games.merge(game_stats, left_on=\"id\", right_on=\"id\", validate=\"one_to_one\")\n",
    "df['home_wins'] = df.home_points - df.away_points > 0"
   ]
  },
  {
   "cell_type": "code",
   "execution_count": 72,
   "id": "2ee11f1e",
   "metadata": {},
   "outputs": [
    {
     "data": {
      "text/plain": [
       "<AxesSubplot:xlabel='home_wins', ylabel='home.turnovers'>"
      ]
     },
     "execution_count": 72,
     "metadata": {},
     "output_type": "execute_result"
    },
    {
     "data": {
      "image/png": "[encoded data removed]",
      "text/plain": [
       "<Figure size 432x288 with 1 Axes>"
      ]
     },
     "metadata": {
      "needs_background": "light"
     },
     "output_type": "display_data"
    }
   ],
   "source": [
    "sns.barplot(x = graph_data.home_wins,y = graph_data['home.turnovers'], hue = graph_data.home_wins)"
   ]
  },
  {
   "cell_type": "markdown",
   "id": "a3dcc67d",
   "metadata": {},
   "source": [
    "As you can see, the games where home doesn't win (either lose or draw) usually has higher turnovers compared to games where home wins"
   ]
  }
 ],
 "metadata": {
  "kernelspec": {
   "display_name": "Python 3",
   "language": "python",
   "name": "python3"
  },
  "language_info": {
   "codemirror_mode": {
    "name": "ipython",
    "version": 3
   },
   "file_extension": ".py",
   "mimetype": "text/x-python",
   "name": "python",
   "nbconvert_exporter": "python",
   "pygments_lexer": "ipython3",
   "version": "3.8.5"
  }
 },
 "nbformat": 4,
 "nbformat_minor": 5
}
